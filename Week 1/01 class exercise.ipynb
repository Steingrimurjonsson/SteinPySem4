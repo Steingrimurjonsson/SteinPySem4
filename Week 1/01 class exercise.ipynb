{
 "cells": [
  {
   "cell_type": "markdown",
   "metadata": {},
   "source": [
    "# STEIN PY WEEK 1 DAY 1"
   ]
  },
  {
   "cell_type": "markdown",
   "metadata": {},
   "source": [
    "# Class exercise\n",
    "\n",
    "![](images/pushups.gif)\n",
    "\n",
    "1. Open a new Jupyter notebook and call it \"01 class exercise\"  \n",
    "2. Create the first cell as a Markdown cell and give it a Headline (single #) called Class exercise 1:  \n",
    "3. Add this image to the cell: https://miro.medium.com/max/1266/1*Pb8oEA1nGIONsSJk7QSVzg.png using this syntax `![](image url)`  \n",
    "\n",
    "4. The next cell should be a code cell that can take 2 floats from a user input and multiply them printing out the result."
   ]
  },
  {
   "cell_type": "markdown",
   "metadata": {},
   "source": [
    "## 1 + 2"
   ]
  },
  {
   "cell_type": "markdown",
   "metadata": {},
   "source": [
    "# Class exercise 1:"
   ]
  },
  {
   "cell_type": "markdown",
   "metadata": {},
   "source": [
    "## 3"
   ]
  },
  {
   "cell_type": "markdown",
   "metadata": {},
   "source": [
    "![](https://miro.medium.com/max/1266/1*Pb8oEA1nGIONsSJk7QSVzg.png)"
   ]
  },
  {
   "cell_type": "code",
   "execution_count": 12,
   "metadata": {},
   "outputs": [
    {
     "data": {
      "text/plain": [
       "float"
      ]
     },
     "execution_count": 12,
     "metadata": {},
     "output_type": "execute_result"
    }
   ],
   "source": [
    "val1 = 3.0\n",
    "val2 = 2.0\n",
    "result = val1 * val2\n",
    "type(result)"
   ]
  },
  {
   "cell_type": "code",
   "execution_count": 11,
   "metadata": {},
   "outputs": [
    {
     "data": {
      "text/plain": [
       "6.0"
      ]
     },
     "execution_count": 11,
     "metadata": {},
     "output_type": "execute_result"
    }
   ],
   "source": [
    "val1 = 3.0\n",
    "val2 = 2.0\n",
    "result = val1 * val2\n",
    "result"
   ]
  },
  {
   "cell_type": "markdown",
   "metadata": {},
   "source": [
    "## 3"
   ]
  },
  {
   "cell_type": "code",
   "execution_count": null,
   "metadata": {},
   "outputs": [],
   "source": [
    "val1 = input(\"write a number\")\n",
    "val2 = input(\"write a number\")\n",
    "float(val1) * float(val2)\n"
   ]
  },
  {
   "cell_type": "markdown",
   "metadata": {},
   "source": [
    "# 01-3 Exercises\n",
    "\n",
    "![get_started](https://s-media-cache-ak0.pinimg.com/originals/9f/73/e3/9f73e3f8a958dbe03b0f76f8811a54a1.gif)\n",
    "\n",
    "  1. Use the `range()` function to make a list of the odd numbers from 1 to 20. **Hint** in ipython and this notebooks you can see a functions help text by executing for example `range?`\n",
    "  2. Create a list with the even number values from two to one million. Use `min()` and `max()` to make sure your list actually starts at two and ends at one million. Also, use the `sum()` function to compute the sum of all values. Time the execution time using `%timeit`.\n",
    "  3. Create a list of the multiples of 3 - going from 3 to 300. **HINT: USE A LIST COMPREHENSION**\n",
    "  4. A number raised to the third power is called a cube. For example, the cube of 2 is written as `2**3` in Python. Create a list of the first 10 cubes (that is, the cube of each integer from 1 through 10).\n"
   ]
  },
  {
   "cell_type": "markdown",
   "metadata": {},
   "source": [
    "# 1"
   ]
  },
  {
   "cell_type": "code",
   "execution_count": 20,
   "metadata": {},
   "outputs": [
    {
     "data": {
      "text/plain": [
       "[1, 3, 5, 7, 9, 11, 13, 15, 17, 19]"
      ]
     },
     "execution_count": 20,
     "metadata": {},
     "output_type": "execute_result"
    }
   ],
   "source": [
    "val1 = [num for num in range(1,20+1) if num % 2 != 0]\n",
    "val1"
   ]
  },
  {
   "cell_type": "code",
   "execution_count": 24,
   "metadata": {
    "scrolled": true
   },
   "outputs": [
    {
     "name": "stdout",
     "output_type": "stream",
     "text": [
      "1 3 5 7 9 11 13 15 17 19 "
     ]
    }
   ],
   "source": [
    "end = 20\n",
    "  \n",
    "# iterating each number in list \n",
    "for num in range(1, 20 + 1): \n",
    "      \n",
    "    # checking condition \n",
    "    if num % 2 != 0: \n",
    "        print(num, end = \" \") \n"
   ]
  },
  {
   "cell_type": "markdown",
   "metadata": {},
   "source": [
    "# 2"
   ]
  },
  {
   "cell_type": "code",
   "execution_count": 26,
   "metadata": {},
   "outputs": [
    {
     "name": "stdout",
     "output_type": "stream",
     "text": [
      "1000000 2\n",
      "19 ms ± 338 µs per loop (mean ± std. dev. of 7 runs, 100 loops each)\n"
     ]
    }
   ],
   "source": [
    "import timeit\n",
    "val2 = [num for num in range(2,1000000 +1) if num % 2 == 0]\n",
    "print(max(val2),min(val2))\n",
    "%timeit (max(val2),min(val2))"
   ]
  },
  {
   "cell_type": "code",
   "execution_count": 27,
   "metadata": {
    "scrolled": false
   },
   "outputs": [
    {
     "ename": "SyntaxError",
     "evalue": "unexpected EOF while parsing (<ipython-input-27-92ed850c885a>, line 11)",
     "output_type": "error",
     "traceback": [
      "\u001b[1;36m  File \u001b[1;32m\"<ipython-input-27-92ed850c885a>\"\u001b[1;36m, line \u001b[1;32m11\u001b[0m\n\u001b[1;33m    ##print(num, end = \" \")\u001b[0m\n\u001b[1;37m                            ^\u001b[0m\n\u001b[1;31mSyntaxError\u001b[0m\u001b[1;31m:\u001b[0m unexpected EOF while parsing\n"
     ]
    }
   ],
   "source": [
    "import timeit\n",
    "\n",
    "start = 2\n",
    "end = 1000000\n",
    "  \n",
    "# iterating each number in list \n",
    "for num in range(start, end + 1): \n",
    "      \n",
    "    # checking condition \n",
    "    if num % 2 == 0: \n",
    "        ##print(num, end = \" \") \n"
   ]
  },
  {
   "cell_type": "markdown",
   "metadata": {},
   "source": [
    "# 3"
   ]
  },
  {
   "cell_type": "code",
   "execution_count": 16,
   "metadata": {},
   "outputs": [
    {
     "data": {
      "text/plain": [
       "[27,\n",
       " 64,\n",
       " 125,\n",
       " 216,\n",
       " 343,\n",
       " 512,\n",
       " 729,\n",
       " 1000,\n",
       " 1331,\n",
       " 1728,\n",
       " 2197,\n",
       " 2744,\n",
       " 3375,\n",
       " 4096,\n",
       " 4913,\n",
       " 5832,\n",
       " 6859,\n",
       " 8000,\n",
       " 9261,\n",
       " 10648,\n",
       " 12167,\n",
       " 13824,\n",
       " 15625,\n",
       " 17576,\n",
       " 19683,\n",
       " 21952,\n",
       " 24389,\n",
       " 27000,\n",
       " 29791,\n",
       " 32768,\n",
       " 35937,\n",
       " 39304,\n",
       " 42875,\n",
       " 46656,\n",
       " 50653,\n",
       " 54872,\n",
       " 59319,\n",
       " 64000,\n",
       " 68921,\n",
       " 74088,\n",
       " 79507,\n",
       " 85184,\n",
       " 91125,\n",
       " 97336,\n",
       " 103823,\n",
       " 110592,\n",
       " 117649,\n",
       " 125000,\n",
       " 132651,\n",
       " 140608,\n",
       " 148877,\n",
       " 157464,\n",
       " 166375,\n",
       " 175616,\n",
       " 185193,\n",
       " 195112,\n",
       " 205379,\n",
       " 216000,\n",
       " 226981,\n",
       " 238328,\n",
       " 250047,\n",
       " 262144,\n",
       " 274625,\n",
       " 287496,\n",
       " 300763,\n",
       " 314432,\n",
       " 328509,\n",
       " 343000,\n",
       " 357911,\n",
       " 373248,\n",
       " 389017,\n",
       " 405224,\n",
       " 421875,\n",
       " 438976,\n",
       " 456533,\n",
       " 474552,\n",
       " 493039,\n",
       " 512000,\n",
       " 531441,\n",
       " 551368,\n",
       " 571787,\n",
       " 592704,\n",
       " 614125,\n",
       " 636056,\n",
       " 658503,\n",
       " 681472,\n",
       " 704969,\n",
       " 729000,\n",
       " 753571,\n",
       " 778688,\n",
       " 804357,\n",
       " 830584,\n",
       " 857375,\n",
       " 884736,\n",
       " 912673,\n",
       " 941192,\n",
       " 970299,\n",
       " 1000000,\n",
       " 1030301,\n",
       " 1061208,\n",
       " 1092727,\n",
       " 1124864,\n",
       " 1157625,\n",
       " 1191016,\n",
       " 1225043,\n",
       " 1259712,\n",
       " 1295029,\n",
       " 1331000,\n",
       " 1367631,\n",
       " 1404928,\n",
       " 1442897,\n",
       " 1481544,\n",
       " 1520875,\n",
       " 1560896,\n",
       " 1601613,\n",
       " 1643032,\n",
       " 1685159,\n",
       " 1728000,\n",
       " 1771561,\n",
       " 1815848,\n",
       " 1860867,\n",
       " 1906624,\n",
       " 1953125,\n",
       " 2000376,\n",
       " 2048383,\n",
       " 2097152,\n",
       " 2146689,\n",
       " 2197000,\n",
       " 2248091,\n",
       " 2299968,\n",
       " 2352637,\n",
       " 2406104,\n",
       " 2460375,\n",
       " 2515456,\n",
       " 2571353,\n",
       " 2628072,\n",
       " 2685619,\n",
       " 2744000,\n",
       " 2803221,\n",
       " 2863288,\n",
       " 2924207,\n",
       " 2985984,\n",
       " 3048625,\n",
       " 3112136,\n",
       " 3176523,\n",
       " 3241792,\n",
       " 3307949,\n",
       " 3375000,\n",
       " 3442951,\n",
       " 3511808,\n",
       " 3581577,\n",
       " 3652264,\n",
       " 3723875,\n",
       " 3796416,\n",
       " 3869893,\n",
       " 3944312,\n",
       " 4019679,\n",
       " 4096000,\n",
       " 4173281,\n",
       " 4251528,\n",
       " 4330747,\n",
       " 4410944,\n",
       " 4492125,\n",
       " 4574296,\n",
       " 4657463,\n",
       " 4741632,\n",
       " 4826809,\n",
       " 4913000,\n",
       " 5000211,\n",
       " 5088448,\n",
       " 5177717,\n",
       " 5268024,\n",
       " 5359375,\n",
       " 5451776,\n",
       " 5545233,\n",
       " 5639752,\n",
       " 5735339,\n",
       " 5832000,\n",
       " 5929741,\n",
       " 6028568,\n",
       " 6128487,\n",
       " 6229504,\n",
       " 6331625,\n",
       " 6434856,\n",
       " 6539203,\n",
       " 6644672,\n",
       " 6751269,\n",
       " 6859000,\n",
       " 6967871,\n",
       " 7077888,\n",
       " 7189057,\n",
       " 7301384,\n",
       " 7414875,\n",
       " 7529536,\n",
       " 7645373,\n",
       " 7762392,\n",
       " 7880599,\n",
       " 8000000,\n",
       " 8120601,\n",
       " 8242408,\n",
       " 8365427,\n",
       " 8489664,\n",
       " 8615125,\n",
       " 8741816,\n",
       " 8869743,\n",
       " 8998912,\n",
       " 9129329,\n",
       " 9261000,\n",
       " 9393931,\n",
       " 9528128,\n",
       " 9663597,\n",
       " 9800344,\n",
       " 9938375,\n",
       " 10077696,\n",
       " 10218313,\n",
       " 10360232,\n",
       " 10503459,\n",
       " 10648000,\n",
       " 10793861,\n",
       " 10941048,\n",
       " 11089567,\n",
       " 11239424,\n",
       " 11390625,\n",
       " 11543176,\n",
       " 11697083,\n",
       " 11852352,\n",
       " 12008989,\n",
       " 12167000,\n",
       " 12326391,\n",
       " 12487168,\n",
       " 12649337,\n",
       " 12812904,\n",
       " 12977875,\n",
       " 13144256,\n",
       " 13312053,\n",
       " 13481272,\n",
       " 13651919,\n",
       " 13824000,\n",
       " 13997521,\n",
       " 14172488,\n",
       " 14348907,\n",
       " 14526784,\n",
       " 14706125,\n",
       " 14886936,\n",
       " 15069223,\n",
       " 15252992,\n",
       " 15438249,\n",
       " 15625000,\n",
       " 15813251,\n",
       " 16003008,\n",
       " 16194277,\n",
       " 16387064,\n",
       " 16581375,\n",
       " 16777216,\n",
       " 16974593,\n",
       " 17173512,\n",
       " 17373979,\n",
       " 17576000,\n",
       " 17779581,\n",
       " 17984728,\n",
       " 18191447,\n",
       " 18399744,\n",
       " 18609625,\n",
       " 18821096,\n",
       " 19034163,\n",
       " 19248832,\n",
       " 19465109,\n",
       " 19683000,\n",
       " 19902511,\n",
       " 20123648,\n",
       " 20346417,\n",
       " 20570824,\n",
       " 20796875,\n",
       " 21024576,\n",
       " 21253933,\n",
       " 21484952,\n",
       " 21717639,\n",
       " 21952000,\n",
       " 22188041,\n",
       " 22425768,\n",
       " 22665187,\n",
       " 22906304,\n",
       " 23149125,\n",
       " 23393656,\n",
       " 23639903,\n",
       " 23887872,\n",
       " 24137569,\n",
       " 24389000,\n",
       " 24642171,\n",
       " 24897088,\n",
       " 25153757,\n",
       " 25412184,\n",
       " 25672375,\n",
       " 25934336,\n",
       " 26198073,\n",
       " 26463592,\n",
       " 26730899]"
      ]
     },
     "execution_count": 16,
     "metadata": {},
     "output_type": "execute_result"
    }
   ],
   "source": [
    "squares = [value**3 for value in range(3, 300)]\n",
    "squares"
   ]
  },
  {
   "cell_type": "markdown",
   "metadata": {},
   "source": [
    "# 4"
   ]
  },
  {
   "cell_type": "code",
   "execution_count": 17,
   "metadata": {},
   "outputs": [
    {
     "name": "stdout",
     "output_type": "stream",
     "text": [
      "1\n",
      "8\n",
      "27\n",
      "64\n",
      "125\n",
      "216\n",
      "343\n",
      "512\n",
      "729\n",
      "1000\n"
     ]
    }
   ],
   "source": [
    "cubes = []\n",
    "for number in range(1, 11):\n",
    "    cube = number**3\n",
    "    cubes.append(cube)\n",
    "\n",
    "for cube in cubes:\n",
    "    print(cube)\n"
   ]
  },
  {
   "cell_type": "markdown",
   "metadata": {},
   "source": [
    "# 01-4 Exercises!!!\n",
    "\n",
    "![image](https://i.makeagif.com/media/2-03-2015/0GlCUD.gif)\n",
    "\n",
    "#### Date Decoder. \n",
    "1. A date of the form 8-MAR-85 includes the name of the month, which must be translated to a number. \n",
    "2. Create a dict suitable for decoding month names to numbers. \n",
    "3. Create a function which uses string operations to split the date into 3 items using the \"-\" character. \n",
    "4. Translate the month and return a tuple.\n",
    "5. The function will accept a date in the \"dd-MMM-yy\" format and respond with a tuple of ( y , m , d ).\n"
   ]
  },
  {
   "cell_type": "markdown",
   "metadata": {},
   "source": [
    "# 1"
   ]
  },
  {
   "cell_type": "code",
   "execution_count": null,
   "metadata": {},
   "outputs": [],
   "source": []
  },
  {
   "cell_type": "markdown",
   "metadata": {},
   "source": [
    "# 2"
   ]
  },
  {
   "cell_type": "code",
   "execution_count": null,
   "metadata": {},
   "outputs": [],
   "source": []
  },
  {
   "cell_type": "markdown",
   "metadata": {},
   "source": [
    "# 3"
   ]
  },
  {
   "cell_type": "code",
   "execution_count": null,
   "metadata": {},
   "outputs": [],
   "source": []
  },
  {
   "cell_type": "markdown",
   "metadata": {},
   "source": [
    "# 4"
   ]
  },
  {
   "cell_type": "code",
   "execution_count": null,
   "metadata": {},
   "outputs": [],
   "source": []
  },
  {
   "cell_type": "markdown",
   "metadata": {},
   "source": [
    "# 5"
   ]
  },
  {
   "cell_type": "code",
   "execution_count": null,
   "metadata": {},
   "outputs": [],
   "source": []
  },
  {
   "cell_type": "markdown",
   "metadata": {},
   "source": [
    "# 01-Exercise \n",
    "1. Create 5 list comprehensions to solve the following 5 problems:\n",
    "  1. Iterate a list of names to return a list of the names starting with H\n",
    "  2. In one line create a list of the numbers 1-100 to the power of 3\n",
    "  3. Iterate a list of names to create a list of tuples where the tuples first value is the length of the name and the second is the name\n",
    "  4. Iterate over each character in a string and get only those that are nummeric\n",
    "  5. Using only a list comprehension wrapped in set() get all possible combination from throwing 2 dice\n",
    "\n",
    "2. Create 2 dictionary comprehensions to solve the following:\n",
    "  1. Iterate a list of names and create a dictionary where key is the name and value is the length of the name\n",
    "  2. Iterate a list of numbers and create a dictionary with (key, value) being (number, squareroot of number)\n",
    "\n",
    "3. Progammatically using loops create a small program to produce a dictionary with all the 2 dice throw combinations as keys and their likelyhood in percent as values"
   ]
  },
  {
   "cell_type": "markdown",
   "metadata": {},
   "source": [
    "# 1"
   ]
  },
  {
   "cell_type": "markdown",
   "metadata": {},
   "source": [
    "#### A"
   ]
  },
  {
   "cell_type": "code",
   "execution_count": 1,
   "metadata": {},
   "outputs": [
    {
     "name": "stdout",
     "output_type": "stream",
     "text": [
      "['Hname1', 'Hname2', 'name2', 'name1', 'Hname3']\n"
     ]
    }
   ],
   "source": [
    "listN = ['Hname1','Hname2','name2','name1','Hname3']\n",
    "print(listN)"
   ]
  },
  {
   "cell_type": "markdown",
   "metadata": {},
   "source": [
    "#### B"
   ]
  },
  {
   "cell_type": "code",
   "execution_count": 2,
   "metadata": {},
   "outputs": [
    {
     "data": {
      "text/plain": [
       "['Hname1', 'Hname2', 'Hname3']"
      ]
     },
     "execution_count": 2,
     "metadata": {},
     "output_type": "execute_result"
    }
   ],
   "source": [
    "listNH = [name for name in listN if name.startswith('H')]\n",
    "listNH"
   ]
  },
  {
   "cell_type": "markdown",
   "metadata": {},
   "source": [
    "#### C"
   ]
  },
  {
   "cell_type": "code",
   "execution_count": 5,
   "metadata": {},
   "outputs": [
    {
     "data": {
      "text/plain": [
       "[1,\n",
       " 8,\n",
       " 27,\n",
       " 64,\n",
       " 125,\n",
       " 216,\n",
       " 343,\n",
       " 512,\n",
       " 729,\n",
       " 1000,\n",
       " 1331,\n",
       " 1728,\n",
       " 2197,\n",
       " 2744,\n",
       " 3375,\n",
       " 4096,\n",
       " 4913,\n",
       " 5832,\n",
       " 6859,\n",
       " 8000,\n",
       " 9261,\n",
       " 10648,\n",
       " 12167,\n",
       " 13824,\n",
       " 15625,\n",
       " 17576,\n",
       " 19683,\n",
       " 21952,\n",
       " 24389,\n",
       " 27000,\n",
       " 29791,\n",
       " 32768,\n",
       " 35937,\n",
       " 39304,\n",
       " 42875,\n",
       " 46656,\n",
       " 50653,\n",
       " 54872,\n",
       " 59319,\n",
       " 64000,\n",
       " 68921,\n",
       " 74088,\n",
       " 79507,\n",
       " 85184,\n",
       " 91125,\n",
       " 97336,\n",
       " 103823,\n",
       " 110592,\n",
       " 117649,\n",
       " 125000,\n",
       " 132651,\n",
       " 140608,\n",
       " 148877,\n",
       " 157464,\n",
       " 166375,\n",
       " 175616,\n",
       " 185193,\n",
       " 195112,\n",
       " 205379,\n",
       " 216000,\n",
       " 226981,\n",
       " 238328,\n",
       " 250047,\n",
       " 262144,\n",
       " 274625,\n",
       " 287496,\n",
       " 300763,\n",
       " 314432,\n",
       " 328509,\n",
       " 343000,\n",
       " 357911,\n",
       " 373248,\n",
       " 389017,\n",
       " 405224,\n",
       " 421875,\n",
       " 438976,\n",
       " 456533,\n",
       " 474552,\n",
       " 493039,\n",
       " 512000,\n",
       " 531441,\n",
       " 551368,\n",
       " 571787,\n",
       " 592704,\n",
       " 614125,\n",
       " 636056,\n",
       " 658503,\n",
       " 681472,\n",
       " 704969,\n",
       " 729000,\n",
       " 753571,\n",
       " 778688,\n",
       " 804357,\n",
       " 830584,\n",
       " 857375,\n",
       " 884736,\n",
       " 912673,\n",
       " 941192,\n",
       " 970299]"
      ]
     },
     "execution_count": 5,
     "metadata": {},
     "output_type": "execute_result"
    }
   ],
   "source": [
    "oneToHund = [x**3 for x in range(1,100)]\n",
    "oneToHund\n"
   ]
  },
  {
   "cell_type": "markdown",
   "metadata": {},
   "source": [
    "#### D"
   ]
  },
  {
   "cell_type": "code",
   "execution_count": 6,
   "metadata": {},
   "outputs": [
    {
     "data": {
      "text/plain": [
       "[(6, 'Hname1'), (6, 'Hname2'), (5, 'name2'), (5, 'name1'), (6, 'Hname3')]"
      ]
     },
     "execution_count": 6,
     "metadata": {},
     "output_type": "execute_result"
    }
   ],
   "source": [
    "tuples = [(len(x), x) for x in listN]\n",
    "tuples"
   ]
  },
  {
   "cell_type": "markdown",
   "metadata": {},
   "source": [
    "#### E"
   ]
  },
  {
   "cell_type": "code",
   "execution_count": 8,
   "metadata": {},
   "outputs": [
    {
     "data": {
      "text/plain": [
       "7766545"
      ]
     },
     "execution_count": 8,
     "metadata": {},
     "output_type": "execute_result"
    }
   ],
   "source": [
    "stringLN = \"dasdsad77d6das6d545\"\n",
    "int(''.join(i for i in stringLN if i.isdigit()))"
   ]
  },
  {
   "cell_type": "markdown",
   "metadata": {},
   "source": [
    "## 2"
   ]
  },
  {
   "cell_type": "code",
   "execution_count": 9,
   "metadata": {},
   "outputs": [
    {
     "data": {
      "text/plain": [
       "{(1, 1),\n",
       " (1, 2),\n",
       " (1, 3),\n",
       " (1, 4),\n",
       " (1, 5),\n",
       " (1, 6),\n",
       " (2, 1),\n",
       " (2, 2),\n",
       " (2, 3),\n",
       " (2, 4),\n",
       " (2, 5),\n",
       " (2, 6),\n",
       " (3, 1),\n",
       " (3, 2),\n",
       " (3, 3),\n",
       " (3, 4),\n",
       " (3, 5),\n",
       " (3, 6),\n",
       " (4, 1),\n",
       " (4, 2),\n",
       " (4, 3),\n",
       " (4, 4),\n",
       " (4, 5),\n",
       " (4, 6),\n",
       " (5, 1),\n",
       " (5, 2),\n",
       " (5, 3),\n",
       " (5, 4),\n",
       " (5, 5),\n",
       " (5, 6),\n",
       " (6, 1),\n",
       " (6, 2),\n",
       " (6, 3),\n",
       " (6, 4),\n",
       " (6, 5),\n",
       " (6, 6)}"
      ]
     },
     "execution_count": 9,
     "metadata": {},
     "output_type": "execute_result"
    }
   ],
   "source": [
    "diceList = set([(x+1, y+1) for x in range(6) for y in range(6)]);\n",
    "diceList"
   ]
  },
  {
   "cell_type": "markdown",
   "metadata": {},
   "source": [
    "#### A"
   ]
  },
  {
   "cell_type": "code",
   "execution_count": 14,
   "metadata": {},
   "outputs": [
    {
     "data": {
      "text/plain": [
       "{'Hname1': 6, 'Hname2': 6, 'name2': 5, 'name1': 5, 'Hname3': 6}"
      ]
     },
     "execution_count": 14,
     "metadata": {},
     "output_type": "execute_result"
    }
   ],
   "source": [
    "nameKey = {x : len(x) for x in listN}\n",
    "nameKey"
   ]
  },
  {
   "cell_type": "markdown",
   "metadata": {},
   "source": [
    "#### B"
   ]
  },
  {
   "cell_type": "code",
   "execution_count": 16,
   "metadata": {},
   "outputs": [
    {
     "data": {
      "text/plain": [
       "{10: 3.1622776601683795,\n",
       " 11: 3.3166247903554,\n",
       " 12: 3.4641016151377544,\n",
       " 13: 3.605551275463989,\n",
       " 14: 3.7416573867739413,\n",
       " 15: 3.872983346207417,\n",
       " 16: 4.0,\n",
       " 17: 4.123105625617661,\n",
       " 18: 4.242640687119285,\n",
       " 19: 4.358898943540674}"
      ]
     },
     "execution_count": 16,
     "metadata": {},
     "output_type": "execute_result"
    }
   ],
   "source": [
    "import math\n",
    "numberSqrt = {x : math.sqrt(x) for x in range(10, 20)}\n",
    "numberSqrt"
   ]
  },
  {
   "cell_type": "markdown",
   "metadata": {},
   "source": [
    "# 3"
   ]
  },
  {
   "cell_type": "code",
   "execution_count": 44,
   "metadata": {},
   "outputs": [
    {
     "data": {
      "text/plain": [
       "{2: (2.7777777777777777, 2),\n",
       " 3: (5.555555555555555, 2),\n",
       " 4: (8.333333333333332, 2),\n",
       " 5: (11.11111111111111, 2),\n",
       " 6: (13.88888888888889, 2),\n",
       " 7: (16.666666666666664, 2),\n",
       " 8: (13.88888888888889, 2),\n",
       " 9: (11.11111111111111, 2),\n",
       " 10: (8.333333333333332, 2),\n",
       " 11: (5.555555555555555, 2),\n",
       " 12: (2.7777777777777777, 2)}"
      ]
     },
     "execution_count": 44,
     "metadata": {},
     "output_type": "execute_result"
    }
   ],
   "source": [
    "diceL = {i:0 for i in range(2,13)} \n",
    "\n",
    "d1 = range(1,7)\n",
    "d2 = range(1,7)\n",
    "\n",
    "for i in d1 : \n",
    "    for j in d2 : \n",
    "        diceL[i + j] += 1;\n",
    "\n",
    "for i in diceL:\n",
    "    diceL[i] = diceL[i]/36*100,2\n",
    "    \n",
    "diceL"
   ]
  },
  {
   "cell_type": "code",
   "execution_count": null,
   "metadata": {},
   "outputs": [],
   "source": []
  },
  {
   "cell_type": "code",
   "execution_count": null,
   "metadata": {},
   "outputs": [],
   "source": []
  }
 ],
 "metadata": {
  "kernelspec": {
   "display_name": "Python 3",
   "language": "python",
   "name": "python3"
  },
  "language_info": {
   "codemirror_mode": {
    "name": "ipython",
    "version": 3
   },
   "file_extension": ".py",
   "mimetype": "text/x-python",
   "name": "python",
   "nbconvert_exporter": "python",
   "pygments_lexer": "ipython3",
   "version": "3.7.4"
  }
 },
 "nbformat": 4,
 "nbformat_minor": 2
}
