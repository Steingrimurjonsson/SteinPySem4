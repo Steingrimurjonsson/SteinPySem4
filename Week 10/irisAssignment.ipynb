{
 "cells": [
  {
   "cell_type": "markdown",
   "metadata": {},
   "source": [
    "Exercise meanshift\n",
    "Exercise 1 understand the titanic data example\n",
    "Understand the Titanic clustering example\n",
    "\n",
    "Look at this Notebook\n",
    "Go through the code and make sure you understand everything\n",
    "Exercise 2 use meanshift on the iris dataset\n",
    "load 'iris_data.csv' into a dataframe\n",
    "get unique labels (Species column)\n",
    "plot with a scatter plot each iris flower sample colored by label (3 different colors)\n",
    "use: MeanShift and estimate_bandwidth from sklearn.cluster to first estimate bandwidth and then get the clusters (HINT: estimate_bandwidth() takes an argument: quantile set it to 0.2 for best result\n",
    "print out labels, cluster centers and number of clusters (as returned from the MeanShift function\n",
    "create a new scatter plot where each flower is colored according to cluster label\n",
    "add a dot for the cluster centers\n",
    "Compare the 2 plots (colored by actual labels vs. colored by cluster label)"
   ]
  },
  {
   "cell_type": "code",
   "execution_count": 14,
   "metadata": {},
   "outputs": [
    {
     "name": "stdout",
     "output_type": "stream",
     "text": [
      "Populating the interactive namespace from numpy and matplotlib\n",
      "I. setosa b\n",
      "I. versicolor g\n",
      "I. virginica r\n"
     ]
    },
    {
     "data": {
      "image/png": "[encoded data removed]",
      "text/plain": [
       "<Figure size 432x288 with 1 Axes>"
      ]
     },
     "metadata": {
      "needs_background": "light"
     },
     "output_type": "display_data"
    },
    {
     "name": "stdout",
     "output_type": "stream",
     "text": [
      "Number of estimated clusters : 3\n",
      "Labels : [0 1 2]\n",
      "Cluster centers : [[6.08727273 2.90181818]\n",
      " [5.         3.37692308]\n",
      " [7.6        3.73333333]]\n"
     ]
    },
    {
     "data": {
      "image/png": "[encoded data removed]",
      "text/plain": [
       "<Figure size 432x288 with 1 Axes>"
      ]
     },
     "metadata": {
      "needs_background": "light"
     },
     "output_type": "display_data"
    }
   ],
   "source": [
    "%pylab inline\n",
    "%matplotlib inline\n",
    "import pandas as pd\n",
    "import numpy as np\n",
    "from itertools import cycle\n",
    "\n",
    "from sklearn.cluster import MeanShift, estimate_bandwidth\n",
    "\n",
    "def mean_shift(data, n_samples=1000):\n",
    "    bandwidth = estimate_bandwidth(data, quantile=0.2, \n",
    "                                   n_samples=n_samples)\n",
    "\n",
    "    ms = MeanShift(bandwidth=bandwidth, bin_seeding=True)\n",
    "    ms.fit(data)\n",
    "    labels = ms.labels_\n",
    "    cluster_centers = ms.cluster_centers_\n",
    "\n",
    "    labels_unique = np.unique(labels)\n",
    "    n_clusters = len(labels_unique)\n",
    "\n",
    "    print('Number of estimated clusters : {}'.format(n_clusters))\n",
    "    print('Labels : {}'.format(labels_unique))\n",
    "    print('Cluster centers : {}'.format(cluster_centers))\n",
    "    return labels, cluster_centers, n_clusters\n",
    "\n",
    "filename = './iris_data.csv'\n",
    "df = pd.read_csv(filename)\n",
    "df\n",
    "\n",
    "labels = np.unique(df['Species'])\n",
    "\n",
    "fig = plt.figure()\n",
    "ax = fig.add_subplot(111)\n",
    "\n",
    "colors = cycle('bgrcmy')\n",
    "for label, col in zip(labels, colors):\n",
    "    print(label, col)\n",
    "    x = df[df['Species'] == label]['Sepal length']\n",
    "    y = df[df['Species'] == label]['Sepal width']\n",
    "\n",
    "    ax.scatter(x, y, c=col,  linewidth=0.2)\n",
    "    \n",
    "plt.title('Sepal length vs. width')\n",
    "plt.show()\n",
    "\n",
    "data_2d = df[['Sepal length', 'Sepal width']].values\n",
    "labels, cluster_centers, n_clusters = mean_shift(data_2d)\n",
    "\n",
    "fig = plt.figure()\n",
    "ax = fig.add_subplot(111)\n",
    "\n",
    "colors = cycle('bgrcmy')\n",
    "for k, col in zip(range(n_clusters), colors):\n",
    "    my_members = (labels == k)\n",
    "    cluster_center = cluster_centers[k]\n",
    "    \n",
    "    x, y = data_2d[my_members,0], data_2d[my_members,1]\n",
    "    ax.scatter(x, y, c=col,  linewidth=0.2)\n",
    "    ax.scatter(cluster_center[0], cluster_center[1], c='k', s=50, linewidth=0.2)\n",
    "    \n",
    "plt.title('Estimated number of clusters: {}'.format(n_clusters))\n",
    "plt.show()"
   ]
  },
  {
   "cell_type": "markdown",
   "metadata": {},
   "source": [
    "the red cluster is a lot more spread out. "
   ]
  }
 ],
 "metadata": {
  "kernelspec": {
   "display_name": "Python 3",
   "language": "python",
   "name": "python3"
  },
  "language_info": {
   "codemirror_mode": {
    "name": "ipython",
    "version": 3
   },
   "file_extension": ".py",
   "mimetype": "text/x-python",
   "name": "python",
   "nbconvert_exporter": "python",
   "pygments_lexer": "ipython3",
   "version": "3.7.4"
  }
 },
 "nbformat": 4,
 "nbformat_minor": 2
}
