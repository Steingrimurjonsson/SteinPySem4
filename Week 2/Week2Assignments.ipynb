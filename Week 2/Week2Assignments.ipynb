{
 "cells": [
  {
   "cell_type": "markdown",
   "metadata": {},
   "source": [
    "# Exercise Week 2"
   ]
  },
  {
   "cell_type": "markdown",
   "metadata": {},
   "source": [
    "# Exercises!!! 02-0a loops\n",
    "\n",
    "![image](https://media.giphy.com/media/13HgwGsXF0aiGY/giphy.gif)\n",
    "\n",
    "  1. Write a program that creates gramatically valid English sentences.\n",
    "    * Here, we consider a sentence to be gramatically correct when it follows the simple English grammar of the form: `Article Adjective Noun Verb.` That is, even the sentence `A insect fly.` is, for the moment, considered correct.\n",
    "    * Create additionally to the exercise above, a list of definite and indefinite articles and verbs from an online resource.\n",
    "  2. Extend the above program to generate all possible sentences with the given words."
   ]
  },
  {
   "cell_type": "code",
   "execution_count": null,
   "metadata": {},
   "outputs": [],
   "source": []
  },
  {
   "cell_type": "markdown",
   "metadata": {},
   "source": [
    "## Exercises 02-0b\n",
    "\n",
    "![](https://media.giphy.com/media/13rQ7rrTrvZXlm/giphy.gif)\n",
    "\n",
    "  1. Write a function that iterates through a list and prints each value **without using a loop**. That is, write a recursive function to print the values of a list.\n",
    "  2. Write a module `webget.py` that exposes a function to download a file from the web in case it does not exist locally already. The function shall have the following signature `download(url, to=None)` where the keyword argument `to` specifies where to save a file locally and with which name. If `to == None` then the file shall be saved in the current working directory `./` with the same name as it has at its origin. For example, calling your program as in the following\n",
    "\n",
    "  ```python\n",
    "  import webget\n",
    "\n",
    "  url = 'http://data.kk.dk/dataset/76ecf368-bf2d-46a2-bcf8-adaf37662528/resource/9286af17-f74e-46c9-a428-9fb707542189/download/befkbhalderstatkode.csv'\n",
    "  webget.download(url)\n",
    "  ```\n",
    "\n",
    "  will download the remote file to `./befkbhalderstatkode.csv`.\n",
    "\n",
    "  Likely, you will need functions from the standard library modules `os`, and `urllib`. For example, read the doc strings for the following functions and implement the given function stub with help of them.\n",
    "\n",
    "    * `os.path.isfile?`\n",
    "    * `os.path.join?`\n",
    "    * `os.path.basename?`\n",
    "    * `urllib.parse?` \n",
    "    * `urllib.request.urlretrieve?`\n",
    "  \n",
    "  \n",
    "  ```python\n",
    "  import os\n",
    "  import urllib.request as req\n",
    "  from urllib.parse import urlparse\n",
    "  \n",
    "  \n",
    "  def download(url, to=None):\n",
    "      \"\"\"Download a remote file specified by a URL to a \n",
    "      local directory.\n",
    "  \n",
    "      :param url: str\n",
    "          URL pointing to a remote file.\n",
    "          \n",
    "      :param to: str\n",
    "          Local path, absolute or relative, with a filename \n",
    "          to the file storing the contents of the remote file.\n",
    "      \"\"\"\n",
    "    \n",
    "      # TODO: Implement me!\n",
    "      pass\n",
    "  ```\n",
    "  "
   ]
  },
  {
   "cell_type": "markdown",
   "metadata": {},
   "source": [
    "## Exercise!!! 02-01\n",
    "\n",
    "  1. Write a program `download_script.py`, which downloads a set of files from the internet. The files to download are given as arguments to your program on the command-line as illustrated in the following:\n",
    "\n",
    "  ```bash\n",
    "  $ python download_script.py http://www.gutenberg.org/files/2701/2701-0.txt http://www.gutenberg.org/cache/epub/27525/pg27525.txt\n",
    "  Downloading file to ./2701-0.txt\n",
    "  Downloading file to ./pg27525.txt\n",
    "  ```\n",
    "\n",
    "    Reuse your `webget` module from exercises in 07-Functions and Modules.\n",
    "  \n",
    "  2. Modify the above program, so that it can download a list of files from stdin. That is, so that you can reuse the output of one CLI command as input to your program. \n",
    "\n",
    "  ```bash\n",
    "  $ cat list_of_files.txt | python download_script.py\n",
    "  ```"
   ]
  },
  {
   "cell_type": "code",
   "execution_count": null,
   "metadata": {},
   "outputs": [],
   "source": []
  },
  {
   "cell_type": "markdown",
   "metadata": {},
   "source": [
    "# Exercise!!! 02-2\n",
    "\n",
    "![image](http://innov8tiv.com/wp-content/uploads/2015/02/life-of-programmer-1.gif)\n",
    "\n",
    "  1. Write a program that converts the Excel spreadsheet `./iris_data.xlsx` into a CSV file with the same data. Start with writing a unit test against which you implement your solution (see below).\n",
    "  2. Write a program, which converts `befkbhalderstatkode.csv` from a CSV file into a Python module `kkdata.py` containing a dictionary named `STATISTICS`.\n",
    "\n",
    "  ```python\n",
    "\n",
    "  STATISTICS = {\n",
    "      2015: {\n",
    "          1: {\n",
    "              0: {\n",
    "                 5100: 614,\n",
    "                 5104: 2,\n",
    "                 5106: 1,\n",
    "                 ...\n",
    "              },\n",
    "              1: {\n",
    "                  5100: 485,\n",
    "                  5110: 1,\n",
    "                  5115, 1,\n",
    "                  ...\n",
    "              },\n",
    "              2: {\n",
    "                  ...\n",
    "              },\n",
    "              ...\n",
    "          },\n",
    "          2: {\n",
    "              ...\n",
    "          },\n",
    "          3: {\n",
    "              ...\n",
    "          },\n",
    "          ...\n",
    "      },\n",
    "      2014: {\n",
    "          ...\n",
    "      },\n",
    "      ...\n",
    "  }\n",
    "  ```\n",
    "  To be sure that the generated code is complete and correct, start with writing a **unit test**, which iterates over the CSV data and checks that the corresponding data exists in the dictionary.\n",
    "  \n",
    "  ```python\n",
    "  import kkdata\n",
    "    \n",
    "  f = './befkbhalderstatkode.csv'\n",
    "  \n",
    "  reader = csv.reader(f)\n",
    "  header_row = next(reader)\n",
    "  for row in reader:\n",
    "      data.append(row)\n",
    "      \n",
    "      assert kkdata.STATISTICS[row[0]][row[1]][row[2]][row[3]] == [row[4]]\n",
    "  ```\n",
    "  **Hint**: You can use `pprint`'s `pformat` function to dump a dictionary into a string that an be used directly in a Python program. For example, when writing the file:\n",
    "\n",
    "  ```python\n",
    "  with open('./kkdata.py', 'w') as out_file:\n",
    "      out_file.write('STATISTICS =' + pprint.pformat(new_data_dict))\n",
    "  ```"
   ]
  },
  {
   "cell_type": "code",
   "execution_count": null,
   "metadata": {},
   "outputs": [],
   "source": []
  },
  {
   "cell_type": "markdown",
   "metadata": {},
   "source": [
    "# Exercises 02-3\n",
    "\n",
    "  1. Create a Python module, which consists of a class TextContainer. The class shall implement methods for computing statistics on texts.\n",
    "    * Counting the amount of words used in a text.\n",
    "    * Counting the amount of chars used in a text.\n",
    "    * Counting the amount of letters, where letters are all ASCII characters, see \n",
    "    ```python\n",
    "    import string\n",
    "    string.ascii_letters  # returns 'abcdefghijklmnopqrstuvwxyzABCDEFGHIJKLMNOPQRSTUVWXYZ'\n",
    "    ```\n",
    "    * Remove all punctuation characters, see\n",
    "    ```python\n",
    "    import string\n",
    "    string.punctuation  # returns '!\"#$%&\\'()*+,-./:;<=>?@[\\\\]^_`{|}~'\n",
    "    ```"
   ]
  },
  {
   "cell_type": "code",
   "execution_count": null,
   "metadata": {},
   "outputs": [],
   "source": []
  },
  {
   "cell_type": "markdown",
   "metadata": {},
   "source": [
    "## Exercise 02-4\n",
    "1. Create a class called: Person with a constructor that takes a string: name.\n",
    "2. Check if name contains only letters and each new word starts with a capital letter. If this is not the case raise an InvalidArgumentException (your own exception here)\n",
    "\n",
    "3. Test you new class by making 2 instances (one with a name, that follows the rules and another that violates them)"
   ]
  },
  {
   "cell_type": "markdown",
   "metadata": {},
   "source": [
    "Exercise 1\n",
    "Create a python file with 3 functions:\n",
    "def print_file_content(file) that can print content of a csv file to the console\n",
    "def write_list_to_file(output_file, lst) that can take a list of tuple and write each element to a new line in file\n",
    "rewrite the function so that it gets an arbitrary number of strings instead of a list\n",
    "def read_csv(input_file) that take a csv file and read each row into a list\n",
    "Add a functionality so that the file can be called from cli with 2 arguments\n",
    "path to csv file\n",
    "an argument --file file_name that if given will write the content to file_name or otherwise will print it to the console.\n",
    "Add a --help cli argument to describe how the module is used\n",
    "Exercise 2\n",
    "Create a module called utils.py and put the following functions inside:\n",
    "\n",
    "first function takes a path to a folder and writes all filenames in the folder to a specified output file\n",
    "second takes a path to a folder and write all filenames recursively (files of all sub folders to)\n",
    "third takes a list of filenames and print the first line of each\n",
    "fourth takes a list of filenames and print each line that contains an email (just look for @)\n",
    "fifth takes a list of md files and writes all headlines (lines starting with #) to a file Make sure your module can be called both from cli and imported to another module Create a new module that imports utils.py and test each function.\n",
    "In [1]:\n",
    "def test():\n",
    "    t = 'ho'\n",
    "t\n",
    "---------------------------------------------------\n",
    "NameError         Traceback (most recent call last)\n",
    "<ipython-input-1-ee6a40638a70> in <module>\n",
    "      1 def test():\n",
    "      2     t = 'ho'\n",
    "----> 3 t\n",
    "\n",
    "NameError: name 't' is not defined"
   ]
  },
  {
   "cell_type": "code",
   "execution_count": 1,
   "metadata": {},
   "outputs": [
    {
     "name": "stdout",
     "output_type": "stream",
     "text": [
      "Jonna\n",
      "Jack\n",
      "Janni\n",
      "Jesper\n"
     ]
    }
   ],
   "source": [
    "names = [\"Jonna\",\"Jack\",\"Janni\",\"Jesper\"]\n",
    "def recursive_print():\n",
    "    for name in names:\n",
    "        print(name)\n",
    "recursive_print()"
   ]
  },
  {
   "cell_type": "code",
   "execution_count": 2,
   "metadata": {},
   "outputs": [
    {
     "name": "stdout",
     "output_type": "stream",
     "text": [
      "('hello', 1, 2)\n",
      "None\n"
     ]
    }
   ],
   "source": [
    "ConSum = []\n",
    "con=''\n",
    "sum=0\n",
    "def recursiveConSum(*i):\n",
    "    print (i)\n",
    "    i = []\n",
    "    for i in ConSum:\n",
    "        if type(i) is 'str':\n",
    "            print (i = i + 'i')\n",
    "        elif type(i) is 'int':\n",
    "            print (i + i)\n",
    "        else: pass\n",
    "ConSum=recursiveConSum('hello', 1, 2)\n",
    "print(ConSum)"
   ]
  },
  {
   "cell_type": "code",
   "execution_count": 3,
   "metadata": {},
   "outputs": [
    {
     "name": "stdout",
     "output_type": "stream",
     "text": [
      "my_module\n",
      "hello Stein from module\n"
     ]
    }
   ],
   "source": [
    "import my_module\n",
    "\n",
    "my_module.print_name(\"Stein\")"
   ]
  },
  {
   "cell_type": "code",
   "execution_count": null,
   "metadata": {},
   "outputs": [],
   "source": []
  }
 ],
 "metadata": {
  "kernelspec": {
   "display_name": "Python 3",
   "language": "python",
   "name": "python3"
  },
  "language_info": {
   "codemirror_mode": {
    "name": "ipython",
    "version": 3
   },
   "file_extension": ".py",
   "mimetype": "text/x-python",
   "name": "python",
   "nbconvert_exporter": "python",
   "pygments_lexer": "ipython3",
   "version": "3.7.4"
  }
 },
 "nbformat": 4,
 "nbformat_minor": 2
}
